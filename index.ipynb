{
 "cells": [
  {
   "cell_type": "markdown",
   "metadata": {},
   "source": [
    "# Interactions - Lab"
   ]
  },
  {
   "cell_type": "markdown",
   "metadata": {},
   "source": [
    "## Introduction"
   ]
  },
  {
   "cell_type": "markdown",
   "metadata": {},
   "source": [
    "In this lab, you'll explore interactions in the Ames Housing dataset."
   ]
  },
  {
   "cell_type": "markdown",
   "metadata": {},
   "source": [
    "## Objectives"
   ]
  },
  {
   "cell_type": "markdown",
   "metadata": {},
   "source": [
    "You will be able to:\n",
    "- Implement interaction terms in Python using the `sklearn` and `statsmodels` packages \n",
    "- Interpret interaction variables in the context of a real-world problem "
   ]
  },
  {
   "cell_type": "markdown",
   "metadata": {},
   "source": [
    "## Build a baseline model "
   ]
  },
  {
   "cell_type": "markdown",
   "metadata": {},
   "source": [
    "You'll use a couple of built-in functions, which we imported for you below: "
   ]
  },
  {
   "cell_type": "code",
   "execution_count": 1,
   "metadata": {},
   "outputs": [],
   "source": [
    "from sklearn.linear_model import LinearRegression\n",
    "from sklearn.model_selection import cross_val_score\n",
    "from sklearn.model_selection import KFold\n",
    "import pandas as pd\n",
    "import numpy as np\n",
    "import matplotlib.pyplot as plt"
   ]
  },
  {
   "cell_type": "markdown",
   "metadata": {},
   "source": [
    "If you still want to build a model in the end, you can do that, but this lab will just focus on finding meaningful insights in interactions and how they can improve $R^2$ values."
   ]
  },
  {
   "cell_type": "code",
   "execution_count": 2,
   "metadata": {},
   "outputs": [],
   "source": [
    "regression = LinearRegression()"
   ]
  },
  {
   "cell_type": "markdown",
   "metadata": {},
   "source": [
    "Create a baseline model which includes all the variables we selected from the Ames housing data set to predict the house prices. Then use 10-fold cross-validation and report the mean $R^2$ value as the baseline $R^2$."
   ]
  },
  {
   "cell_type": "code",
   "execution_count": 5,
   "metadata": {},
   "outputs": [
    {
     "data": {
      "text/plain": [
       "0.7773817128043181"
      ]
     },
     "execution_count": 5,
     "metadata": {},
     "output_type": "execute_result"
    }
   ],
   "source": [
    "ames = pd.read_csv('ames.csv')\n",
    "\n",
    "continuous = ['LotArea', '1stFlrSF', 'GrLivArea', 'SalePrice']\n",
    "categoricals = ['BldgType', 'KitchenQual', 'SaleType', 'MSZoning', 'Street', 'Neighborhood']\n",
    "\n",
    "ames_cont = ames[continuous]\n",
    "\n",
    "# log features\n",
    "log_names = [f'{column}_log' for column in ames_cont.columns]\n",
    "\n",
    "ames_log = np.log(ames_cont)\n",
    "ames_log.columns = log_names\n",
    "\n",
    "# normalize (subract mean and divide by std)\n",
    "\n",
    "def normalize(feature):\n",
    "    return (feature - feature.mean()) / feature.std()\n",
    "\n",
    "ames_log_norm = ames_log.apply(normalize)\n",
    "\n",
    "# one hot encode categoricals\n",
    "ames_ohe = pd.get_dummies(ames[categoricals], prefix=categoricals)\n",
    "\n",
    "preprocessed = pd.concat([ames_cont, ames_ohe], axis=1)\n",
    "\n",
    "X = preprocessed.drop('SalePrice', axis=1)\n",
    "y = preprocessed['SalePrice']\n",
    "\n",
    "crossvalidation = KFold(n_splits=10, shuffle=True, random_state=1)\n",
    "baseline = np.mean(cross_val_score(regression, X, y, scoring='r2', cv=crossvalidation))\n",
    "\n",
    "baseline"
   ]
  },
  {
   "cell_type": "markdown",
   "metadata": {},
   "source": [
    "## See how interactions improve your baseline"
   ]
  },
  {
   "cell_type": "markdown",
   "metadata": {},
   "source": [
    "Next, create all possible combinations of interactions, loop over them and add them to the baseline model one by one to see how they affect the $R^2$. We'll look at the 3 interactions which have the biggest effect on our $R^2$, so print out the top 3 combinations.\n",
    "\n",
    "You will create a `for` loop to loop through all the combinations of 2 predictors. You can use `combinations` from itertools to create a list of all the pairwise combinations. To find more info on how this is done, have a look [here](https://docs.python.org/2/library/itertools.html).\n",
    "\n",
    "Since there are so many different neighbourhoods we will exclude"
   ]
  },
  {
   "cell_type": "code",
   "execution_count": 4,
   "metadata": {},
   "outputs": [],
   "source": [
    "from itertools import combinations"
   ]
  },
  {
   "cell_type": "code",
   "execution_count": 6,
   "metadata": {},
   "outputs": [
    {
     "name": "stdout",
     "output_type": "stream",
     "text": [
      "0\n",
      "50\n",
      "100\n",
      "150\n",
      "200\n",
      "250\n",
      "300\n",
      "350\n",
      "400\n",
      "450\n",
      "500\n",
      "550\n",
      "600\n",
      "650\n",
      "700\n",
      "750\n",
      "800\n",
      "850\n",
      "900\n",
      "950\n",
      "1000\n",
      "1050\n",
      "1100\n",
      "1150\n",
      "1200\n",
      "1250\n",
      "1300\n",
      "1350\n",
      "Top 3 interactions: [('LotArea', 'Neighborhood_Edwards', 0.809), ('GrLivArea', 'Neighborhood_Edwards', 0.808), ('1stFlrSF', 'Neighborhood_Edwards', 0.803)]\n"
     ]
    }
   ],
   "source": [
    "from itertools import combinations\n",
    "\n",
    "interactions = []\n",
    "\n",
    "feat_combinations = combinations(X.columns, 2)\n",
    "\n",
    "data = X.copy()\n",
    "for i, (a, b) in enumerate(feat_combinations):\n",
    "    data['interaction'] = data[a] * data[b]\n",
    "    score = np.mean(cross_val_score(regression, data, y, scoring='r2', cv=crossvalidation))\n",
    "    if score > baseline:\n",
    "        interactions.append((a, b, round(score,3)))\n",
    "    \n",
    "    if i % 50 == 0:\n",
    "        print(i)\n",
    "            \n",
    "print('Top 3 interactions: %s' %sorted(interactions, key=lambda inter: inter[2], reverse=True)[:3])"
   ]
  },
  {
   "cell_type": "markdown",
   "metadata": {},
   "source": [
    "It looks like the top interactions involve the Neighborhood_Edwards feature so lets add the interaction between LotArea and Edwards to our model.\n",
    "\n",
    "We can interpret this feature as the relationship between LotArea and SalePrice when the house is in Edwards or not."
   ]
  },
  {
   "cell_type": "markdown",
   "metadata": {},
   "source": [
    "## Visualize the Interaction\n",
    "\n",
    "Separate all houses that are located in Edwards and those that are not. Run a linear regression on each population against `SalePrice`. Visualize the regression line and data points with price on the y axis and LotArea on the x axis."
   ]
  },
  {
   "cell_type": "code",
   "execution_count": 7,
   "metadata": {},
   "outputs": [
    {
     "data": {
      "text/plain": [
       "<matplotlib.legend.Legend at 0x28a6172b408>"
      ]
     },
     "execution_count": 7,
     "metadata": {},
     "output_type": "execute_result"
    },
    {
     "data": {
      "image/png": "[encoded data removed]",
      "text/plain": [
       "<Figure size 936x720 with 1 Axes>"
      ]
     },
     "metadata": {
      "needs_background": "light"
     },
     "output_type": "display_data"
    }
   ],
   "source": [
    "fig, ax = plt.subplots(figsize=(13, 10))\n",
    "\n",
    "col = 'LotArea'\n",
    "\n",
    "is_in = preprocessed.loc[preprocessed['Neighborhood_Edwards'] == 1, [col, 'SalePrice']]\n",
    "\n",
    "linreg = LinearRegression()\n",
    "linreg.fit(np.log(is_in[[col]]), np.log(is_in['SalePrice']))\n",
    "\n",
    "preds = linreg.predict(np.log(is_in[[col]]))\n",
    "\n",
    "ax.scatter(np.log(is_in[[col]]), np.log(is_in['SalePrice']), alpha=.3, label=None)\n",
    "\n",
    "x = np.linspace(6, 12)\n",
    "ax.plot(x, linreg.predict(x.reshape(-1, 1)), label=f'In Edwards:   {linreg.coef_[0]:.2f}')\n",
    "\n",
    "not_in = preprocessed.loc[preprocessed['Neighborhood_Edwards'] == 0, [col, 'SalePrice']]\n",
    "\n",
    "linreg = LinearRegression()\n",
    "linreg.fit(np.log(not_in[[col]]), np.log(not_in['SalePrice']))\n",
    "\n",
    "preds = linreg.predict(np.log(not_in[[col]]))\n",
    "\n",
    "ax.scatter(np.log(not_in[[col]]), np.log(not_in['SalePrice']), alpha=.1, label=None)\n",
    "\n",
    "x = np.linspace(6, 12)\n",
    "ax.plot(x, linreg.predict(x.reshape(-1, 1)), label=f'Outside of Edwards:   {linreg.coef_[0]:.2f}')\n",
    "\n",
    "ax.legend()"
   ]
  },
  {
   "cell_type": "markdown",
   "metadata": {},
   "source": [
    "## Build a final model with interactions"
   ]
  },
  {
   "cell_type": "markdown",
   "metadata": {},
   "source": [
    "Use 10-fold cross-validation to build a model using the above interaction. "
   ]
  },
  {
   "cell_type": "code",
   "execution_count": 8,
   "metadata": {},
   "outputs": [
    {
     "data": {
      "text/plain": [
       "0.8093287430188502"
      ]
     },
     "execution_count": 8,
     "metadata": {},
     "output_type": "execute_result"
    }
   ],
   "source": [
    "regression = LinearRegression()\n",
    "crossvalidation = KFold(n_splits=10, shuffle=True, random_state=1)\n",
    "final = X.copy()\n",
    "\n",
    "final['Neighborhood_Edwards*LotArea'] = final['Neighborhood_Edwards'] * final['LotArea']\n",
    "\n",
    "final_model = np.mean(cross_val_score(regression, final, y, scoring='r2', cv=crossvalidation))\n",
    "\n",
    "final_model"
   ]
  },
  {
   "cell_type": "markdown",
   "metadata": {},
   "source": [
    "Our $R^2$ has increased considerably! Let's have a look in `statsmodels` to see if this interactions are significant."
   ]
  },
  {
   "cell_type": "code",
   "execution_count": 9,
   "metadata": {},
   "outputs": [
    {
     "data": {
      "text/html": [
       "<table class=\"simpletable\">\n",
       "<caption>OLS Regression Results</caption>\n",
       "<tr>\n",
       "  <th>Dep. Variable:</th>        <td>SalePrice</td>    <th>  R-squared:         </th> <td>   0.835</td> \n",
       "</tr>\n",
       "<tr>\n",
       "  <th>Model:</th>                   <td>OLS</td>       <th>  Adj. R-squared:    </th> <td>   0.829</td> \n",
       "</tr>\n",
       "<tr>\n",
       "  <th>Method:</th>             <td>Least Squares</td>  <th>  F-statistic:       </th> <td>   148.6</td> \n",
       "</tr>\n",
       "<tr>\n",
       "  <th>Date:</th>             <td>Fri, 12 Jun 2020</td> <th>  Prob (F-statistic):</th>  <td>  0.00</td>  \n",
       "</tr>\n",
       "<tr>\n",
       "  <th>Time:</th>                 <td>09:19:58</td>     <th>  Log-Likelihood:    </th> <td> -17229.</td> \n",
       "</tr>\n",
       "<tr>\n",
       "  <th>No. Observations:</th>      <td>  1460</td>      <th>  AIC:               </th> <td>3.456e+04</td>\n",
       "</tr>\n",
       "<tr>\n",
       "  <th>Df Residuals:</th>          <td>  1411</td>      <th>  BIC:               </th> <td>3.482e+04</td>\n",
       "</tr>\n",
       "<tr>\n",
       "  <th>Df Model:</th>              <td>    48</td>      <th>                     </th>     <td> </td>    \n",
       "</tr>\n",
       "<tr>\n",
       "  <th>Covariance Type:</th>      <td>nonrobust</td>    <th>                     </th>     <td> </td>    \n",
       "</tr>\n",
       "</table>\n",
       "<table class=\"simpletable\">\n",
       "<tr>\n",
       "                <td></td>                  <th>coef</th>     <th>std err</th>      <th>t</th>      <th>P>|t|</th>  <th>[0.025</th>    <th>0.975]</th>  \n",
       "</tr>\n",
       "<tr>\n",
       "  <th>LotArea</th>                      <td>    0.6108</td> <td>    0.103</td> <td>    5.916</td> <td> 0.000</td> <td>    0.408</td> <td>    0.813</td>\n",
       "</tr>\n",
       "<tr>\n",
       "  <th>1stFlrSF</th>                     <td>   35.0664</td> <td>    3.288</td> <td>   10.664</td> <td> 0.000</td> <td>   28.616</td> <td>   41.517</td>\n",
       "</tr>\n",
       "<tr>\n",
       "  <th>GrLivArea</th>                    <td>   58.1426</td> <td>    2.405</td> <td>   24.171</td> <td> 0.000</td> <td>   53.424</td> <td>   62.861</td>\n",
       "</tr>\n",
       "<tr>\n",
       "  <th>BldgType_1Fam</th>                <td> 2.922e+04</td> <td> 2902.954</td> <td>   10.066</td> <td> 0.000</td> <td> 2.35e+04</td> <td> 3.49e+04</td>\n",
       "</tr>\n",
       "<tr>\n",
       "  <th>BldgType_2fmCon</th>              <td> 1.242e+04</td> <td> 5897.809</td> <td>    2.105</td> <td> 0.035</td> <td>  847.853</td> <td>  2.4e+04</td>\n",
       "</tr>\n",
       "<tr>\n",
       "  <th>BldgType_Duplex</th>              <td>-3641.5299</td> <td> 4775.013</td> <td>   -0.763</td> <td> 0.446</td> <td> -1.3e+04</td> <td> 5725.358</td>\n",
       "</tr>\n",
       "<tr>\n",
       "  <th>BldgType_Twnhs</th>               <td>-7057.2521</td> <td> 5689.576</td> <td>   -1.240</td> <td> 0.215</td> <td>-1.82e+04</td> <td> 4103.687</td>\n",
       "</tr>\n",
       "<tr>\n",
       "  <th>BldgType_TwnhsE</th>              <td> 5879.6997</td> <td> 3832.141</td> <td>    1.534</td> <td> 0.125</td> <td>-1637.606</td> <td> 1.34e+04</td>\n",
       "</tr>\n",
       "<tr>\n",
       "  <th>KitchenQual_Ex</th>               <td> 6.041e+04</td> <td> 4203.276</td> <td>   14.371</td> <td> 0.000</td> <td> 5.22e+04</td> <td> 6.87e+04</td>\n",
       "</tr>\n",
       "<tr>\n",
       "  <th>KitchenQual_Fa</th>               <td>-2.033e+04</td> <td> 4811.017</td> <td>   -4.225</td> <td> 0.000</td> <td>-2.98e+04</td> <td>-1.09e+04</td>\n",
       "</tr>\n",
       "<tr>\n",
       "  <th>KitchenQual_Gd</th>               <td> 6309.0317</td> <td> 2725.293</td> <td>    2.315</td> <td> 0.021</td> <td>  962.969</td> <td> 1.17e+04</td>\n",
       "</tr>\n",
       "<tr>\n",
       "  <th>KitchenQual_TA</th>               <td>-9568.2577</td> <td> 2512.797</td> <td>   -3.808</td> <td> 0.000</td> <td>-1.45e+04</td> <td>-4639.037</td>\n",
       "</tr>\n",
       "<tr>\n",
       "  <th>SaleType_COD</th>                 <td>-1.616e+04</td> <td> 6414.150</td> <td>   -2.519</td> <td> 0.012</td> <td>-2.87e+04</td> <td>-3575.093</td>\n",
       "</tr>\n",
       "<tr>\n",
       "  <th>SaleType_CWD</th>                 <td> 5095.8845</td> <td> 1.54e+04</td> <td>    0.330</td> <td> 0.741</td> <td>-2.52e+04</td> <td> 3.54e+04</td>\n",
       "</tr>\n",
       "<tr>\n",
       "  <th>SaleType_Con</th>                 <td> 4.676e+04</td> <td> 2.18e+04</td> <td>    2.149</td> <td> 0.032</td> <td> 4071.965</td> <td> 8.95e+04</td>\n",
       "</tr>\n",
       "<tr>\n",
       "  <th>SaleType_ConLD</th>               <td>  267.8450</td> <td> 1.11e+04</td> <td>    0.024</td> <td> 0.981</td> <td>-2.14e+04</td> <td> 2.19e+04</td>\n",
       "</tr>\n",
       "<tr>\n",
       "  <th>SaleType_ConLI</th>               <td>  888.5698</td> <td> 1.39e+04</td> <td>    0.064</td> <td> 0.949</td> <td>-2.64e+04</td> <td> 2.82e+04</td>\n",
       "</tr>\n",
       "<tr>\n",
       "  <th>SaleType_ConLw</th>               <td>-5236.1620</td> <td>  1.4e+04</td> <td>   -0.375</td> <td> 0.708</td> <td>-3.26e+04</td> <td> 2.22e+04</td>\n",
       "</tr>\n",
       "<tr>\n",
       "  <th>SaleType_New</th>                 <td> 1.611e+04</td> <td> 5396.453</td> <td>    2.986</td> <td> 0.003</td> <td> 5528.209</td> <td> 2.67e+04</td>\n",
       "</tr>\n",
       "<tr>\n",
       "  <th>SaleType_Oth</th>                 <td>-7445.4890</td> <td> 1.76e+04</td> <td>   -0.423</td> <td> 0.673</td> <td> -4.2e+04</td> <td> 2.71e+04</td>\n",
       "</tr>\n",
       "<tr>\n",
       "  <th>SaleType_WD</th>                  <td>-3470.6182</td> <td> 4492.513</td> <td>   -0.773</td> <td> 0.440</td> <td>-1.23e+04</td> <td> 5342.104</td>\n",
       "</tr>\n",
       "<tr>\n",
       "  <th>MSZoning_C (all)</th>             <td>-1.649e+04</td> <td> 1.06e+04</td> <td>   -1.553</td> <td> 0.121</td> <td>-3.73e+04</td> <td> 4333.248</td>\n",
       "</tr>\n",
       "<tr>\n",
       "  <th>MSZoning_FV</th>                  <td>  2.15e+04</td> <td> 7819.714</td> <td>    2.749</td> <td> 0.006</td> <td> 6156.896</td> <td> 3.68e+04</td>\n",
       "</tr>\n",
       "<tr>\n",
       "  <th>MSZoning_RH</th>                  <td> 1565.0621</td> <td> 8028.716</td> <td>    0.195</td> <td> 0.845</td> <td>-1.42e+04</td> <td> 1.73e+04</td>\n",
       "</tr>\n",
       "<tr>\n",
       "  <th>MSZoning_RL</th>                  <td> 1.276e+04</td> <td> 3975.156</td> <td>    3.210</td> <td> 0.001</td> <td> 4963.351</td> <td> 2.06e+04</td>\n",
       "</tr>\n",
       "<tr>\n",
       "  <th>MSZoning_RM</th>                  <td> 1.748e+04</td> <td> 4540.010</td> <td>    3.851</td> <td> 0.000</td> <td> 8578.857</td> <td> 2.64e+04</td>\n",
       "</tr>\n",
       "<tr>\n",
       "  <th>Street_Grvl</th>                  <td> 2.003e+04</td> <td> 1.02e+04</td> <td>    1.961</td> <td> 0.050</td> <td>   -1.589</td> <td> 4.01e+04</td>\n",
       "</tr>\n",
       "<tr>\n",
       "  <th>Street_Pave</th>                  <td> 1.679e+04</td> <td> 5572.202</td> <td>    3.012</td> <td> 0.003</td> <td> 5855.136</td> <td> 2.77e+04</td>\n",
       "</tr>\n",
       "<tr>\n",
       "  <th>Neighborhood_Blmngtn</th>         <td> 1.084e+04</td> <td> 8819.610</td> <td>    1.229</td> <td> 0.219</td> <td>-6460.879</td> <td> 2.81e+04</td>\n",
       "</tr>\n",
       "<tr>\n",
       "  <th>Neighborhood_Blueste</th>         <td> 1.885e+04</td> <td> 2.29e+04</td> <td>    0.822</td> <td> 0.411</td> <td>-2.62e+04</td> <td> 6.39e+04</td>\n",
       "</tr>\n",
       "<tr>\n",
       "  <th>Neighborhood_BrDale</th>          <td> -363.5975</td> <td> 9693.132</td> <td>   -0.038</td> <td> 0.970</td> <td>-1.94e+04</td> <td> 1.87e+04</td>\n",
       "</tr>\n",
       "<tr>\n",
       "  <th>Neighborhood_BrkSide</th>         <td>-3.052e+04</td> <td> 5047.172</td> <td>   -6.046</td> <td> 0.000</td> <td>-4.04e+04</td> <td>-2.06e+04</td>\n",
       "</tr>\n",
       "<tr>\n",
       "  <th>Neighborhood_ClearCr</th>         <td>-1.273e+04</td> <td> 6635.232</td> <td>   -1.918</td> <td> 0.055</td> <td>-2.57e+04</td> <td>  290.949</td>\n",
       "</tr>\n",
       "<tr>\n",
       "  <th>Neighborhood_CollgCr</th>         <td> 2881.7921</td> <td> 3296.652</td> <td>    0.874</td> <td> 0.382</td> <td>-3585.075</td> <td> 9348.659</td>\n",
       "</tr>\n",
       "<tr>\n",
       "  <th>Neighborhood_Crawfor</th>         <td> 2742.1253</td> <td> 4857.565</td> <td>    0.565</td> <td> 0.572</td> <td>-6786.701</td> <td> 1.23e+04</td>\n",
       "</tr>\n",
       "<tr>\n",
       "  <th>Neighborhood_Edwards</th>         <td> 3.292e+04</td> <td> 6255.485</td> <td>    5.263</td> <td> 0.000</td> <td> 2.07e+04</td> <td> 4.52e+04</td>\n",
       "</tr>\n",
       "<tr>\n",
       "  <th>Neighborhood_Gilbert</th>         <td> -851.6815</td> <td> 4190.447</td> <td>   -0.203</td> <td> 0.839</td> <td>-9071.859</td> <td> 7368.496</td>\n",
       "</tr>\n",
       "<tr>\n",
       "  <th>Neighborhood_IDOTRR</th>          <td> -4.11e+04</td> <td> 7466.396</td> <td>   -5.505</td> <td> 0.000</td> <td>-5.58e+04</td> <td>-2.65e+04</td>\n",
       "</tr>\n",
       "<tr>\n",
       "  <th>Neighborhood_MeadowV</th>         <td>-1.664e+04</td> <td> 8866.487</td> <td>   -1.877</td> <td> 0.061</td> <td> -3.4e+04</td> <td>  749.566</td>\n",
       "</tr>\n",
       "<tr>\n",
       "  <th>Neighborhood_Mitchel</th>         <td>-9326.6382</td> <td> 4965.415</td> <td>   -1.878</td> <td> 0.061</td> <td>-1.91e+04</td> <td>  413.752</td>\n",
       "</tr>\n",
       "<tr>\n",
       "  <th>Neighborhood_NAmes</th>           <td>-2.378e+04</td> <td> 3027.800</td> <td>   -7.853</td> <td> 0.000</td> <td>-2.97e+04</td> <td>-1.78e+04</td>\n",
       "</tr>\n",
       "<tr>\n",
       "  <th>Neighborhood_NPkVill</th>         <td> 1.716e+04</td> <td> 1.13e+04</td> <td>    1.517</td> <td> 0.130</td> <td>-5035.043</td> <td> 3.94e+04</td>\n",
       "</tr>\n",
       "<tr>\n",
       "  <th>Neighborhood_NWAmes</th>          <td>-1.572e+04</td> <td> 4297.809</td> <td>   -3.658</td> <td> 0.000</td> <td>-2.42e+04</td> <td>-7292.309</td>\n",
       "</tr>\n",
       "<tr>\n",
       "  <th>Neighborhood_NoRidge</th>         <td> 6.116e+04</td> <td> 5802.386</td> <td>   10.540</td> <td> 0.000</td> <td> 4.98e+04</td> <td> 7.25e+04</td>\n",
       "</tr>\n",
       "<tr>\n",
       "  <th>Neighborhood_NridgHt</th>         <td> 5.343e+04</td> <td> 4730.312</td> <td>   11.295</td> <td> 0.000</td> <td> 4.42e+04</td> <td> 6.27e+04</td>\n",
       "</tr>\n",
       "<tr>\n",
       "  <th>Neighborhood_OldTown</th>         <td>-4.916e+04</td> <td> 4938.221</td> <td>   -9.954</td> <td> 0.000</td> <td>-5.88e+04</td> <td>-3.95e+04</td>\n",
       "</tr>\n",
       "<tr>\n",
       "  <th>Neighborhood_SWISU</th>           <td>-4.748e+04</td> <td> 6953.924</td> <td>   -6.828</td> <td> 0.000</td> <td>-6.11e+04</td> <td>-3.38e+04</td>\n",
       "</tr>\n",
       "<tr>\n",
       "  <th>Neighborhood_Sawyer</th>          <td>-2.453e+04</td> <td> 4299.054</td> <td>   -5.705</td> <td> 0.000</td> <td> -3.3e+04</td> <td>-1.61e+04</td>\n",
       "</tr>\n",
       "<tr>\n",
       "  <th>Neighborhood_SawyerW</th>         <td>-4573.2529</td> <td> 4664.797</td> <td>   -0.980</td> <td> 0.327</td> <td>-1.37e+04</td> <td> 4577.430</td>\n",
       "</tr>\n",
       "<tr>\n",
       "  <th>Neighborhood_Somerst</th>         <td>  1.49e+04</td> <td> 7438.164</td> <td>    2.003</td> <td> 0.045</td> <td>  305.753</td> <td> 2.95e+04</td>\n",
       "</tr>\n",
       "<tr>\n",
       "  <th>Neighborhood_StoneBr</th>         <td> 6.479e+04</td> <td> 7077.402</td> <td>    9.155</td> <td> 0.000</td> <td> 5.09e+04</td> <td> 7.87e+04</td>\n",
       "</tr>\n",
       "<tr>\n",
       "  <th>Neighborhood_Timber</th>          <td> 7540.1022</td> <td> 5710.630</td> <td>    1.320</td> <td> 0.187</td> <td>-3662.136</td> <td> 1.87e+04</td>\n",
       "</tr>\n",
       "<tr>\n",
       "  <th>Neighborhood_Veenker</th>         <td> 2.636e+04</td> <td> 9993.454</td> <td>    2.638</td> <td> 0.008</td> <td> 6761.011</td> <td>  4.6e+04</td>\n",
       "</tr>\n",
       "<tr>\n",
       "  <th>Neighborhood_Edwards*LotArea</th> <td>   -7.1552</td> <td>    0.513</td> <td>  -13.959</td> <td> 0.000</td> <td>   -8.161</td> <td>   -6.150</td>\n",
       "</tr>\n",
       "</table>\n",
       "<table class=\"simpletable\">\n",
       "<tr>\n",
       "  <th>Omnibus:</th>       <td>381.039</td> <th>  Durbin-Watson:     </th> <td>   1.945</td>\n",
       "</tr>\n",
       "<tr>\n",
       "  <th>Prob(Omnibus):</th> <td> 0.000</td>  <th>  Jarque-Bera (JB):  </th> <td>3465.080</td>\n",
       "</tr>\n",
       "<tr>\n",
       "  <th>Skew:</th>          <td> 0.947</td>  <th>  Prob(JB):          </th> <td>    0.00</td>\n",
       "</tr>\n",
       "<tr>\n",
       "  <th>Kurtosis:</th>      <td>10.306</td>  <th>  Cond. No.          </th> <td>1.01e+16</td>\n",
       "</tr>\n",
       "</table><br/><br/>Warnings:<br/>[1] Standard Errors assume that the covariance matrix of the errors is correctly specified.<br/>[2] The smallest eigenvalue is 3.06e-21. This might indicate that there are<br/>strong multicollinearity problems or that the design matrix is singular."
      ],
      "text/plain": [
       "<class 'statsmodels.iolib.summary.Summary'>\n",
       "\"\"\"\n",
       "                            OLS Regression Results                            \n",
       "==============================================================================\n",
       "Dep. Variable:              SalePrice   R-squared:                       0.835\n",
       "Model:                            OLS   Adj. R-squared:                  0.829\n",
       "Method:                 Least Squares   F-statistic:                     148.6\n",
       "Date:                Fri, 12 Jun 2020   Prob (F-statistic):               0.00\n",
       "Time:                        09:19:58   Log-Likelihood:                -17229.\n",
       "No. Observations:                1460   AIC:                         3.456e+04\n",
       "Df Residuals:                    1411   BIC:                         3.482e+04\n",
       "Df Model:                          48                                         \n",
       "Covariance Type:            nonrobust                                         \n",
       "================================================================================================\n",
       "                                   coef    std err          t      P>|t|      [0.025      0.975]\n",
       "------------------------------------------------------------------------------------------------\n",
       "LotArea                          0.6108      0.103      5.916      0.000       0.408       0.813\n",
       "1stFlrSF                        35.0664      3.288     10.664      0.000      28.616      41.517\n",
       "GrLivArea                       58.1426      2.405     24.171      0.000      53.424      62.861\n",
       "BldgType_1Fam                 2.922e+04   2902.954     10.066      0.000    2.35e+04    3.49e+04\n",
       "BldgType_2fmCon               1.242e+04   5897.809      2.105      0.035     847.853     2.4e+04\n",
       "BldgType_Duplex              -3641.5299   4775.013     -0.763      0.446    -1.3e+04    5725.358\n",
       "BldgType_Twnhs               -7057.2521   5689.576     -1.240      0.215   -1.82e+04    4103.687\n",
       "BldgType_TwnhsE               5879.6997   3832.141      1.534      0.125   -1637.606    1.34e+04\n",
       "KitchenQual_Ex                6.041e+04   4203.276     14.371      0.000    5.22e+04    6.87e+04\n",
       "KitchenQual_Fa               -2.033e+04   4811.017     -4.225      0.000   -2.98e+04   -1.09e+04\n",
       "KitchenQual_Gd                6309.0317   2725.293      2.315      0.021     962.969    1.17e+04\n",
       "KitchenQual_TA               -9568.2577   2512.797     -3.808      0.000   -1.45e+04   -4639.037\n",
       "SaleType_COD                 -1.616e+04   6414.150     -2.519      0.012   -2.87e+04   -3575.093\n",
       "SaleType_CWD                  5095.8845   1.54e+04      0.330      0.741   -2.52e+04    3.54e+04\n",
       "SaleType_Con                  4.676e+04   2.18e+04      2.149      0.032    4071.965    8.95e+04\n",
       "SaleType_ConLD                 267.8450   1.11e+04      0.024      0.981   -2.14e+04    2.19e+04\n",
       "SaleType_ConLI                 888.5698   1.39e+04      0.064      0.949   -2.64e+04    2.82e+04\n",
       "SaleType_ConLw               -5236.1620    1.4e+04     -0.375      0.708   -3.26e+04    2.22e+04\n",
       "SaleType_New                  1.611e+04   5396.453      2.986      0.003    5528.209    2.67e+04\n",
       "SaleType_Oth                 -7445.4890   1.76e+04     -0.423      0.673    -4.2e+04    2.71e+04\n",
       "SaleType_WD                  -3470.6182   4492.513     -0.773      0.440   -1.23e+04    5342.104\n",
       "MSZoning_C (all)             -1.649e+04   1.06e+04     -1.553      0.121   -3.73e+04    4333.248\n",
       "MSZoning_FV                    2.15e+04   7819.714      2.749      0.006    6156.896    3.68e+04\n",
       "MSZoning_RH                   1565.0621   8028.716      0.195      0.845   -1.42e+04    1.73e+04\n",
       "MSZoning_RL                   1.276e+04   3975.156      3.210      0.001    4963.351    2.06e+04\n",
       "MSZoning_RM                   1.748e+04   4540.010      3.851      0.000    8578.857    2.64e+04\n",
       "Street_Grvl                   2.003e+04   1.02e+04      1.961      0.050      -1.589    4.01e+04\n",
       "Street_Pave                   1.679e+04   5572.202      3.012      0.003    5855.136    2.77e+04\n",
       "Neighborhood_Blmngtn          1.084e+04   8819.610      1.229      0.219   -6460.879    2.81e+04\n",
       "Neighborhood_Blueste          1.885e+04   2.29e+04      0.822      0.411   -2.62e+04    6.39e+04\n",
       "Neighborhood_BrDale           -363.5975   9693.132     -0.038      0.970   -1.94e+04    1.87e+04\n",
       "Neighborhood_BrkSide         -3.052e+04   5047.172     -6.046      0.000   -4.04e+04   -2.06e+04\n",
       "Neighborhood_ClearCr         -1.273e+04   6635.232     -1.918      0.055   -2.57e+04     290.949\n",
       "Neighborhood_CollgCr          2881.7921   3296.652      0.874      0.382   -3585.075    9348.659\n",
       "Neighborhood_Crawfor          2742.1253   4857.565      0.565      0.572   -6786.701    1.23e+04\n",
       "Neighborhood_Edwards          3.292e+04   6255.485      5.263      0.000    2.07e+04    4.52e+04\n",
       "Neighborhood_Gilbert          -851.6815   4190.447     -0.203      0.839   -9071.859    7368.496\n",
       "Neighborhood_IDOTRR           -4.11e+04   7466.396     -5.505      0.000   -5.58e+04   -2.65e+04\n",
       "Neighborhood_MeadowV         -1.664e+04   8866.487     -1.877      0.061    -3.4e+04     749.566\n",
       "Neighborhood_Mitchel         -9326.6382   4965.415     -1.878      0.061   -1.91e+04     413.752\n",
       "Neighborhood_NAmes           -2.378e+04   3027.800     -7.853      0.000   -2.97e+04   -1.78e+04\n",
       "Neighborhood_NPkVill          1.716e+04   1.13e+04      1.517      0.130   -5035.043    3.94e+04\n",
       "Neighborhood_NWAmes          -1.572e+04   4297.809     -3.658      0.000   -2.42e+04   -7292.309\n",
       "Neighborhood_NoRidge          6.116e+04   5802.386     10.540      0.000    4.98e+04    7.25e+04\n",
       "Neighborhood_NridgHt          5.343e+04   4730.312     11.295      0.000    4.42e+04    6.27e+04\n",
       "Neighborhood_OldTown         -4.916e+04   4938.221     -9.954      0.000   -5.88e+04   -3.95e+04\n",
       "Neighborhood_SWISU           -4.748e+04   6953.924     -6.828      0.000   -6.11e+04   -3.38e+04\n",
       "Neighborhood_Sawyer          -2.453e+04   4299.054     -5.705      0.000    -3.3e+04   -1.61e+04\n",
       "Neighborhood_SawyerW         -4573.2529   4664.797     -0.980      0.327   -1.37e+04    4577.430\n",
       "Neighborhood_Somerst           1.49e+04   7438.164      2.003      0.045     305.753    2.95e+04\n",
       "Neighborhood_StoneBr          6.479e+04   7077.402      9.155      0.000    5.09e+04    7.87e+04\n",
       "Neighborhood_Timber           7540.1022   5710.630      1.320      0.187   -3662.136    1.87e+04\n",
       "Neighborhood_Veenker          2.636e+04   9993.454      2.638      0.008    6761.011     4.6e+04\n",
       "Neighborhood_Edwards*LotArea    -7.1552      0.513    -13.959      0.000      -8.161      -6.150\n",
       "==============================================================================\n",
       "Omnibus:                      381.039   Durbin-Watson:                   1.945\n",
       "Prob(Omnibus):                  0.000   Jarque-Bera (JB):             3465.080\n",
       "Skew:                           0.947   Prob(JB):                         0.00\n",
       "Kurtosis:                      10.306   Cond. No.                     1.01e+16\n",
       "==============================================================================\n",
       "\n",
       "Warnings:\n",
       "[1] Standard Errors assume that the covariance matrix of the errors is correctly specified.\n",
       "[2] The smallest eigenvalue is 3.06e-21. This might indicate that there are\n",
       "strong multicollinearity problems or that the design matrix is singular.\n",
       "\"\"\""
      ]
     },
     "execution_count": 9,
     "metadata": {},
     "output_type": "execute_result"
    }
   ],
   "source": [
    "import statsmodels.api as sm\n",
    "df_inter_sm = sm.add_constant(final)\n",
    "model = sm.OLS(y,final)\n",
    "results = model.fit()\n",
    "\n",
    "results.summary()"
   ]
  },
  {
   "cell_type": "markdown",
   "metadata": {},
   "source": [
    "What is your conclusion here?"
   ]
  },
  {
   "cell_type": "code",
   "execution_count": null,
   "metadata": {},
   "outputs": [],
   "source": [
    "# formulate your conclusion"
   ]
  },
  {
   "cell_type": "markdown",
   "metadata": {},
   "source": [
    "## Summary"
   ]
  },
  {
   "cell_type": "markdown",
   "metadata": {},
   "source": [
    "You should now understand how to include interaction effects in your model! As you can see, interactions can have a strong impact on linear regression models, and they should always be considered when you are constructing your models."
   ]
  }
 ],
 "metadata": {
  "kernelspec": {
   "display_name": "Python 3",
   "language": "python",
   "name": "python3"
  },
  "language_info": {
   "codemirror_mode": {
    "name": "ipython",
    "version": 3
   },
   "file_extension": ".py",
   "mimetype": "text/x-python",
   "name": "python",
   "nbconvert_exporter": "python",
   "pygments_lexer": "ipython3",
   "version": "3.7.6"
  }
 },
 "nbformat": 4,
 "nbformat_minor": 2
}
